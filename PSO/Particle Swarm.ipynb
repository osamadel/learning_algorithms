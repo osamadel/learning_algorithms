{
 "cells": [
  {
   "cell_type": "markdown",
   "metadata": {},
   "source": [
    "# Particle Swarm Optimization\n",
    "\n",
    "**Pseudocode and equations are taken from \"Learning Algorithms and Neural Networks Volume 1\" by Dr. Victor Parque.**\n",
    "\n",
    "I'm going to implement PSO algorithms in this notebook."
   ]
  },
  {
   "cell_type": "markdown",
   "metadata": {},
   "source": [
    "## Particle Swarm (Maximization)\n",
    "\n",
    "Each particle $X$ has a position vector $x_t$ and a velocity vector $v_t$ at generation $t$. These two vectors are updated at the end of each generation using the following two formula:\n",
    "\n",
    "$$\n",
    "x_{t+1} = x_t + v_{t+1}\n",
    "$$\n",
    "\n",
    "$$\n",
    "v_{t+1} = \\omega v_t + c_1 r_1(pbest_t - x_t) + c_2 r_2 (gbest_t - x_t)\n",
    "$$\n",
    "\n",
    "Algorithm Pseudo Code:\n",
    "\n",
    "```python\n",
    "Generate initial population and velocity randomly\n",
    "\n",
    "Repeat:\n",
    "    for each particle in population:\n",
    "        if f(x) > f(pbest):\n",
    "            pbest = x\n",
    "    gbest = population[ argmax(f(pbest)) ]\n",
    "    for each particle in population:\n",
    "        update velocity and position\n",
    "Until termination criteria is met\n",
    "        \n",
    "```"
   ]
  },
  {
   "cell_type": "code",
   "execution_count": 1,
   "metadata": {},
   "outputs": [],
   "source": [
    "import numpy as np\n",
    "from numpy import linalg\n",
    "from matplotlib import pyplot as plt"
   ]
  },
  {
   "cell_type": "code",
   "execution_count": 146,
   "metadata": {},
   "outputs": [],
   "source": [
    "omega = 0.5\n",
    "c1 = 0.2\n",
    "c2 = 1\n",
    "n = 2\n",
    "space_lowerbound = [-2, -1]\n",
    "space_upperbound = [2, 1]"
   ]
  },
  {
   "cell_type": "code",
   "execution_count": 147,
   "metadata": {},
   "outputs": [],
   "source": [
    "def fitness(x):\n",
    "    \"\"\"\n",
    "    calculates the value of the function to optimize at input x\n",
    "\n",
    "    Parameters\n",
    "    ----------\n",
    "    x : np.ndarray\n",
    "        MxN matrix where M is any integer number of particles, N is the\n",
    "        dimension of the particle vector.\n",
    "\n",
    "    Returns\n",
    "    -------\n",
    "    np.ndarray\n",
    "        Mx1 fitness value of the input particles x.\n",
    "\n",
    "    \"\"\"\n",
    "    return (4 - 2.1*x[:,0]**2+x[:,0]**4/3) * x[:,0]**2 + np.prod(x, axis=1) + \\\n",
    "                    (-4+4*x[:,1]**2)*x[:,1]**2"
   ]
  },
  {
   "cell_type": "code",
   "execution_count": 148,
   "metadata": {},
   "outputs": [],
   "source": [
    "def f2(x):\n",
    "    return 10 + \\\n",
    "    np.exp(1) - \\\n",
    "    10*np.exp(-0.2 * np.sqrt(0.5 * (x[:,0]**2 + x[:,1]**2)) - \\\n",
    "    np.exp(0.5*(np.cos(2*np.pi*x[:,0])+np.cos(2*np.pi*x[:,1]))))"
   ]
  },
  {
   "cell_type": "code",
   "execution_count": 149,
   "metadata": {},
   "outputs": [],
   "source": [
    "# generate initial population and velocity\n",
    "NP = 50\n",
    "iterations = 400\n",
    "\n",
    "pop = np.random.uniform(low=space_lowerbound, high=space_upperbound, size=(NP,n))\n",
    "vel = 0.1 * np.random.uniform(low=space_lowerbound, high=space_upperbound, size=(NP,n))\n",
    "\n",
    "pbest = pop.copy()\n",
    "f_pbest = fitness(pbest)\n",
    "gbest = pop[np.argmin(f_pbest),:]"
   ]
  },
  {
   "cell_type": "code",
   "execution_count": 150,
   "metadata": {},
   "outputs": [
    {
     "data": {
      "text/plain": [
       "<matplotlib.collections.PathCollection at 0x23ca48ed9e8>"
      ]
     },
     "execution_count": 150,
     "metadata": {},
     "output_type": "execute_result"
    },
    {
     "data": {
      "image/png": "[encoded data removed]",
      "text/plain": [
       "<Figure size 720x576 with 1 Axes>"
      ]
     },
     "metadata": {
      "needs_background": "light"
     },
     "output_type": "display_data"
    }
   ],
   "source": [
    "plt.figure(figsize=(10,8))\n",
    "for _ in range(iterations):\n",
    "    f_x = fitness(pop)\n",
    "    updated_particles = f_x < f_pbest\n",
    "    f_pbest[updated_particles] = f_x[updated_particles]\n",
    "    pbest[updated_particles] = pop[updated_particles]\n",
    "    gbest = pop[np.argmin(f_pbest),:]\n",
    "    \n",
    "    r1 = np.random.rand(*pop.shape)\n",
    "    r2 = np.random.rand(*pop.shape)\n",
    "    \n",
    "    vel = omega*vel + c1*r1*(pbest - pop) + c2*r2*(gbest - pop)\n",
    "    pop = pop + vel\n",
    "    plt.scatter(pop[:,0], pop[:,1], alpha=_/iterations)\n",
    "# plt.scatter(pbest[0:5,:], pbest[0:5,:], c='r', marker='x')\n",
    "plt.scatter(gbest[0], gbest[1], c='m', marker='x', linewidth=5, s=600)"
   ]
  },
  {
   "cell_type": "markdown",
   "metadata": {},
   "source": [
    "## Fitness Euclidean Ratio"
   ]
  },
  {
   "cell_type": "markdown",
   "metadata": {},
   "source": [
    "In Fitness Euclidean Ration PSO (FERPSO), the global best is computed as following:\n",
    "\n",
    "$$\n",
    "gbest_i = \\underset{x}{\\operatorname{argmax}} FER(i, j)\n",
    "$$\n",
    "\n",
    "$$\n",
    "FER(i, j) = \\alpha \\frac{f(p_j) - f(p_i)}{\\lVert p_j - p_i \\rVert}\n",
    "$$\n",
    "\n",
    "$$\n",
    "\\alpha = \\frac{\\lVert s \\rVert}{f(p_g) - f(p_w)}\n",
    "$$\n",
    "\n",
    "$$\n",
    "\\lVert s \\rVert = \\sqrt{\\sum_{d=1}^{D} (U_d - L_d)^2}\n",
    "$$"
   ]
  },
  {
   "cell_type": "markdown",
   "metadata": {},
   "source": [
    "The FERPSO algorithm pseudocode:\n",
    "```python\n",
    "Generate initial population and velocity\n",
    "\n",
    "Repeat:\n",
    "    Update pbest (if f(x) > f(pbest): pbest = x)\n",
    "    for each particle i in population:\n",
    "        gbest(i) = Find max FER(i,j) for all particles j\n",
    "    Update velocity and position\n",
    "```"
   ]
  },
  {
   "cell_type": "code",
   "execution_count": 68,
   "metadata": {},
   "outputs": [],
   "source": [
    "def FER(i, pop, f_x):\n",
    "    from numpy import linalg\n",
    "    s = np.sqrt(sum([(space_upperbound[i]-space_lowerbound[i])**2 for i in range(n)]))\n",
    "    alpha = s / (f_pbest.min() - f_pbest.max())\n",
    "    return pop[np.argmax(alpha * (f_x - fitness(i[None, :])) / linalg.norm(pop - i))]\n",
    "#     return pop[np.argmax(alpha * (f_x - f2(i[None, :])) / linalg.norm(pop - i))]"
   ]
  },
  {
   "cell_type": "code",
   "execution_count": 155,
   "metadata": {},
   "outputs": [
    {
     "name": "stderr",
     "output_type": "stream",
     "text": [
      "C:\\Users\\osama\\Anaconda3\\lib\\site-packages\\ipykernel_launcher.py:4: RuntimeWarning: divide by zero encountered in double_scalars\n",
      "  after removing the cwd from sys.path.\n",
      "C:\\Users\\osama\\Anaconda3\\lib\\site-packages\\ipykernel_launcher.py:5: RuntimeWarning: invalid value encountered in multiply\n",
      "  \"\"\"\n"
     ]
    }
   ],
   "source": [
    "# generate initial population and velocity\n",
    "\n",
    "NP = 50\n",
    "iterations = 100\n",
    "\n",
    "omega = 0.1\n",
    "c1 = 1\n",
    "c2 = 0.5\n",
    "n = 2\n",
    "space_lowerbound = [-2, -1]\n",
    "space_upperbound = [2, 1]\n",
    "\n",
    "pop = np.random.uniform(low=space_lowerbound, high=space_upperbound, size=(NP,n))\n",
    "vel = 0.1 * np.random.uniform(low=space_lowerbound, high=space_upperbound, size=(NP,n))\n",
    "\n",
    "# pbest = pop.copy()\n",
    "f_pbest = fitness(pbest)\n",
    "# f_pbest = f2(pbest)\n",
    "f_x = fitness(pop)\n",
    "# f_x = f2(pop)\n",
    "gbest = np.array([FER(i, pop, f_x) for i in pop])"
   ]
  },
  {
   "cell_type": "code",
   "execution_count": 156,
   "metadata": {},
   "outputs": [
    {
     "name": "stderr",
     "output_type": "stream",
     "text": [
      "C:\\Users\\osama\\Anaconda3\\lib\\site-packages\\ipykernel_launcher.py:4: RuntimeWarning: divide by zero encountered in double_scalars\n",
      "  after removing the cwd from sys.path.\n",
      "C:\\Users\\osama\\Anaconda3\\lib\\site-packages\\ipykernel_launcher.py:5: RuntimeWarning: invalid value encountered in multiply\n",
      "  \"\"\"\n"
     ]
    },
    {
     "data": {
      "text/plain": [
       "<matplotlib.collections.PathCollection at 0x23ca57bbe80>"
      ]
     },
     "execution_count": 156,
     "metadata": {},
     "output_type": "execute_result"
    },
    {
     "data": {
      "image/png": "[encoded data removed]",
      "text/plain": [
       "<Figure size 720x576 with 1 Axes>"
      ]
     },
     "metadata": {
      "needs_background": "light"
     },
     "output_type": "display_data"
    }
   ],
   "source": [
    "plt.figure(figsize=(10,8))\n",
    "for _ in range(iterations):\n",
    "    f_x = fitness(pop)\n",
    "#     f_x = f2(pop)\n",
    "    updated_indices = f_x < f_pbest\n",
    "    f_pbest[updated_indices] = f_x[updated_indices]\n",
    "    pbest[updated_indices] = pop[updated_indices]\n",
    "    gbest = np.array([FER(pop[i], np.delete(pop, i, axis=0), np.delete(f_x, i, axis=0)) for i in range(NP)])\n",
    "    \n",
    "    r1 = np.random.rand(*pop.shape)\n",
    "    r2 = np.random.rand(*pop.shape)\n",
    "    \n",
    "    vel = omega*vel + c1*r1*(pbest - pop) + c2*r2*(gbest - pop)\n",
    "    pop = pop + vel\n",
    "    plt.scatter(pop[:,0], pop[:,1], alpha=_/iterations)\n",
    "plt.scatter(gbest[np.argmin(f_pbest), 0], gbest[np.argmin(f_pbest), 1], c='r')"
   ]
  },
  {
   "cell_type": "markdown",
   "metadata": {},
   "source": [
    "## PSO with Local Search\n",
    "\n",
    "In PSO with Local Search, the following is considered\n",
    "\n",
    "* Each particle re-updates the pbest considering other particles pbests\n",
    "* The method is a Local-best PSO\n",
    "\n",
    "Algorithm Pseudocode:\n",
    "\n",
    "```python\n",
    "Update pbest (the conventional method)\n",
    "\n",
    "# Re-Update the pbest\n",
    "for each particle in population:\n",
    "    pbest_nearest = Closest pbest in population\n",
    "    u = pbest_nearest - pbest\n",
    "    if f(pbest_nearest) > = f(pbest):\n",
    "        a = 1\n",
    "    else:\n",
    "        a = -1\n",
    "    temp = pbest + c*r*a*u # c and r are the defined constants\n",
    "    if f(temp) > f(pbest):\n",
    "        pbest = temp\n",
    "```"
   ]
  },
  {
   "cell_type": "code",
   "execution_count": 46,
   "metadata": {},
   "outputs": [],
   "source": [
    "# generate initial population and velocity\n",
    "\n",
    "NP = 50\n",
    "iterations = 100\n",
    "\n",
    "omega = 0.1\n",
    "c1 = 0.2\n",
    "c2 = 0.8\n",
    "n = 2\n",
    "space_lowerbound = [-5, -5]\n",
    "space_upperbound = [5, 5]\n",
    "\n",
    "pop = np.random.uniform(low=space_lowerbound, high=space_upperbound, size=(NP,n))\n",
    "vel = 0.1 * np.random.uniform(low=space_lowerbound, high=space_upperbound, size=(NP,n))\n",
    "\n",
    "pbest = pop.copy()\n",
    "f_pbest = fitness(pbest)\n",
    "\n",
    "gbest = pop[np.argmin(f_pbest),:]"
   ]
  },
  {
   "cell_type": "code",
   "execution_count": 47,
   "metadata": {
    "scrolled": false
   },
   "outputs": [
    {
     "data": {
      "image/png": "[encoded data removed]",
      "text/plain": [
       "<Figure size 720x576 with 1 Axes>"
      ]
     },
     "metadata": {
      "needs_background": "light"
     },
     "output_type": "display_data"
    }
   ],
   "source": [
    "plt.figure(figsize=(10,8))\n",
    "iters = 50\n",
    "for _ in range(iters):\n",
    "    \n",
    "    \n",
    "    f_x = fitness(pop)\n",
    "    updated_indices = f_x < f_pbest\n",
    "    f_pbest[updated_indices] = f_x[updated_indices]\n",
    "    pbest[updated_indices] = pop[updated_indices]\n",
    "    for i, x in enumerate(pop):\n",
    "        pbest_reminder = np.delete(pbest, i, axis=0)\n",
    "        pbest_nearest = pbest_reminder[np.argmin(linalg.norm(x - pbest_reminder, axis=1))]\n",
    "        u = pbest_nearest - pbest[i]\n",
    "        if fitness(pbest_nearest[None,:]) <= fitness(pbest[None,i]):\n",
    "            a = 1\n",
    "        else:\n",
    "            a = -1\n",
    "        c = 0.2\n",
    "        r = np.random.rand()\n",
    "        temp = pbest[i] + c*r*a*u\n",
    "        f_pbest[i] = fitness(pbest[None,i])\n",
    "        if fitness(temp[None,:]) > f_pbest[i]: #fitness(pbest[None,i]):\n",
    "            pbest[i] = temp\n",
    "#     pbest = np.clip(pbest, space_lowerbound, space_upperbound)\n",
    "\n",
    "    r1 = np.random.rand(*pop.shape)\n",
    "    r2 = np.random.rand(*pop.shape)\n",
    "    \n",
    "    gbest = pop[np.argmin(f_pbest)]\n",
    "    vel = omega*vel + c1*r1*(pbest - pop) + c2*r2*(gbest - pop)\n",
    "    pop = pop + vel\n",
    "    plt.scatter(pop[:,0], pop[:,1], alpha=_/iters)\n",
    "#     plt.plot(f_pbest)"
   ]
  },
  {
   "cell_type": "markdown",
   "metadata": {},
   "source": [
    "## Speciation in PSO\n",
    "\n",
    "In Speciation PSO (SPSO) the following is considered:\n",
    "\n",
    "* Sub-populations (species)\n",
    "* The fittest particle in the sub-population is the **seed**\n",
    "* A niche radius is assumed (a parameter)\n",
    "* Updated of velocity and position occurs within each sub-population"
   ]
  },
  {
   "cell_type": "markdown",
   "metadata": {},
   "source": [
    "Algorithm pseudocode:\n",
    "\n",
    "```python\n",
    "Generate initial population and veclocity\n",
    "\n",
    "Repeat:\n",
    "    Updated pbest\n",
    "    Find seeds (this algorithm will be shown next)\n",
    "    for each specie in population:\n",
    "        for each particle in specie:\n",
    "            gbest[i] = seed of specie\n",
    "            update velocity and position\n",
    "until termination criteria ends\n",
    "```"
   ]
  },
  {
   "cell_type": "markdown",
   "metadata": {},
   "source": [
    "Find seeds algorithm pseudocode:\n",
    "```python\n",
    "Seeds = {}\n",
    "Set L = order population from best to worst\n",
    "while no more unmarked individuals in L do:\n",
    "    find the best unmarked x in L\n",
    "    Mark x\n",
    "    found = False\n",
    "    for each y in Seeds:\n",
    "        if d(x,y) < r:\n",
    "            found = True\n",
    "            break\n",
    "            \n",
    "    if not found:\n",
    "        Let Seeds = Seeds union {x}\n",
    "```"
   ]
  },
  {
   "cell_type": "code",
   "execution_count": 50,
   "metadata": {},
   "outputs": [],
   "source": [
    "# generate initial population and velocity\n",
    "\n",
    "pop = np.random.uniform(low=space_lowerbound, high=space_upperbound, size=(100,n))\n",
    "vel = np.random.uniform(low=space_lowerbound, high=space_upperbound, size=(100,n))\n",
    "pbest = np.zeros_like(pop)\n",
    "gbest = np.zeros(pop.shape[0])\n",
    "f_pbest = np.zeros(pop.shape[0])"
   ]
  },
  {
   "cell_type": "code",
   "execution_count": null,
   "metadata": {
    "scrolled": false
   },
   "outputs": [],
   "source": [
    "plt.figure(figsize=(10,8))\n",
    "iters = 1000\n",
    "for _ in range(iters):\n",
    "    c = 0.2\n",
    "    r = np.random.rand()\n",
    "    R = 1\n",
    "    \n",
    "    # update pbest\n",
    "    f_x = fitness(pop)\n",
    "    updated_indices = f_x > f_pbest\n",
    "    f_pbest[updated_indices] = f_x[updated_indices]\n",
    "    pbest[updated_indices] = pop[updated_indices]\n",
    "    \n",
    "    # find seeds\n",
    "    seeds = {}\n",
    "    L = pop[np.argsort(f_x),:]\n",
    "    marks = ones(L.shape[0])\n",
    "    while np.all(marks):\n",
    "        i = np.nonzero(marks)[0][0]\n",
    "        marks[i] = 0\n",
    "        found = False\n",
    "        for y in seeds:\n",
    "            if linalg.norm(L[i]-y) < R:\n",
    "                found = True\n",
    "                gbest[i] = f_x[i]\n",
    "                break\n",
    "        if not found:\n",
    "            seeds.union(L[i])\n",
    "    \n",
    "    \n",
    "    \n",
    "    "
   ]
  },
  {
   "cell_type": "code",
   "execution_count": null,
   "metadata": {},
   "outputs": [],
   "source": []
  }
 ],
 "metadata": {
  "kernelspec": {
   "display_name": "Python [conda env:root] *",
   "language": "python",
   "name": "conda-root-py"
  },
  "language_info": {
   "codemirror_mode": {
    "name": "ipython",
    "version": 3
   },
   "file_extension": ".py",
   "mimetype": "text/x-python",
   "name": "python",
   "nbconvert_exporter": "python",
   "pygments_lexer": "ipython3",
   "version": "3.7.1"
  }
 },
 "nbformat": 4,
 "nbformat_minor": 2
}
