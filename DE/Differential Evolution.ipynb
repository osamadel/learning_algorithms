{
 "cells": [
  {
   "cell_type": "markdown",
   "metadata": {},
   "source": [
    "# Differential Evolution\n",
    "\n",
    "**Equations and pseudo code is taken from \"Learning Algorithms and Neural Networks\" notes written by Dr. Victor Parque.**"
   ]
  },
  {
   "cell_type": "markdown",
   "metadata": {},
   "source": [
    "## Basic Differential Evolution Algorithm\n",
    "\n",
    "For a population of $NP$ vectors $x_i$, each in $\\mathbb{R}^D$, three randomly sampled vectors $x_{r1}$, $x_{r2}$ and $x_{r3}$, a mutant individual $v_t$ is calculated as follows:\n",
    "$$\n",
    "v = x_{r1} + F(x_{r2} - x_{r3})\n",
    "$$\n",
    "where $F$ is a scaling factor $\\in [0, 1]$.\n",
    "\n",
    "Then, a mutation vector $u$ is caluclated by randomly mutating random entries in $v$ as follows:\n",
    "\n",
    "$$\n",
    "e_{j} = 0\\ if\\ Rand \\leq CR \\ or\\ j = Rand;\\ 0\\ otherwise\n",
    "$$\n",
    "$$\n",
    "e = [e_1, e_2, \\dots , e_D]\n",
    "$$\n",
    "\n",
    "Then\n",
    "\n",
    "$$\n",
    "u_t = x_i + e \\dot (v - x_i)\n",
    "$$\n",
    "\n",
    "Finally,\n",
    "\n",
    "$$\n",
    "x_i^{new} = u \\ if \\ f(u) < f(x_i) \\ ;\\ 0\\ otherwise.\n",
    "$$"
   ]
  },
  {
   "cell_type": "markdown",
   "metadata": {},
   "source": [
    "Algorithm Pseudo code:\n",
    "\n",
    "```python\n",
    "Generate initial population\n",
    "Repeat:\n",
    "    for each individual in population:\n",
    "        randomly select x_r1, x_r2, x_r3 from the population\n",
    "        Compute mutant v\n",
    "        Compute trial u\n",
    "        if f(u) < f(x):\n",
    "            x = u\n",
    "        \n",
    "Until termination criteria ends\n",
    "```"
   ]
  },
  {
   "cell_type": "code",
   "execution_count": 1,
   "metadata": {},
   "outputs": [],
   "source": [
    "import numpy as np\n",
    "from matplotlib import pyplot as plt"
   ]
  },
  {
   "cell_type": "code",
   "execution_count": null,
   "metadata": {},
   "outputs": [],
   "source": []
  }
 ],
 "metadata": {
  "kernelspec": {
   "display_name": "Python [conda env:root] *",
   "language": "python",
   "name": "conda-root-py"
  },
  "language_info": {
   "codemirror_mode": {
    "name": "ipython",
    "version": 3
   },
   "file_extension": ".py",
   "mimetype": "text/x-python",
   "name": "python",
   "nbconvert_exporter": "python",
   "pygments_lexer": "ipython3",
   "version": "3.7.1"
  }
 },
 "nbformat": 4,
 "nbformat_minor": 2
}
